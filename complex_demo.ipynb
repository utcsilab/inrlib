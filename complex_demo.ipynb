{
 "cells": [
  {
   "cell_type": "markdown",
   "metadata": {},
   "source": [
    "# Demo of INR with Complex-Valued Output\n",
    "\n",
    "Zach Stoebner  \n",
    "\n",
    "INRs typically have real-valued coordinates as inputs but potentially complex-valued outputs. What is the best way to handle complex-valued outputs? "
   ]
  },
  {
   "cell_type": "code",
   "execution_count": 1,
   "metadata": {},
   "outputs": [],
   "source": [
    "import os\n",
    "from os import path\n",
    "from typing import Optional, Tuple, Union, List\n",
    "import numpy as np\n",
    "from numpy import random\n",
    "from matplotlib import pyplot as plt\n",
    "from copy import deepcopy\n",
    "from IPython.display import Image, display\n",
    "import pandas as pd\n",
    "\n",
    "from tqdm import tqdm\n",
    "import torch\n",
    "import torch.nn as nn\n",
    "from torch.utils.data import Dataset, DataLoader\n",
    "\n",
    "import lightning.pytorch as pl\n",
    "from lightning.pytorch.callbacks import TQDMProgressBar, EarlyStopping\n",
    "from lightning.pytorch.loggers import CSVLogger\n",
    "\n",
    "import inrlib as inrl\n",
    "\n",
    "nrmse = inrl.NRMSE(dim=(0,1,2))\n",
    "\n",
    "os.environ['CUDA_VISIBLE_DEVICES'] = '0'\n",
    "torch.set_float32_matmul_precision('medium')\n",
    "\n",
    "%matplotlib inline"
   ]
  },
  {
   "cell_type": "markdown",
   "metadata": {},
   "source": [
    "## Data"
   ]
  },
  {
   "cell_type": "code",
   "execution_count": 2,
   "metadata": {},
   "outputs": [],
   "source": [
    "res = 96\n",
    "train_dataset = inrl.MRI3DDataset(RES=res,  # resolution of the image\n",
    "                            train=True, # use training set of coords\n",
    "                            shepp_or_atlas='shepp', # use shepp logan phantom\n",
    "                            complex=True, # use complex data\n",
    "                            )\n",
    "\n",
    "train_dataset.change_stage(train=True)\n",
    "val_dataset = deepcopy(train_dataset)\n",
    "val_dataset.change_stage(train=False)"
   ]
  },
  {
   "cell_type": "code",
   "execution_count": 3,
   "metadata": {},
   "outputs": [
    {
     "data": {
      "text/plain": [
       "((884736, 3),\n",
       " array([0.        , 0.01041667, 0.02083333, 0.03125   , 0.04166667,\n",
       "        0.05208333, 0.0625    , 0.07291667, 0.08333333, 0.09375   ,\n",
       "        0.10416667, 0.11458333, 0.125     , 0.13541667, 0.14583333,\n",
       "        0.15625   , 0.16666667, 0.17708333, 0.1875    , 0.19791667,\n",
       "        0.20833333, 0.21875   , 0.22916667, 0.23958333, 0.25      ,\n",
       "        0.26041667, 0.27083333, 0.28125   , 0.29166667, 0.30208333,\n",
       "        0.3125    , 0.32291667, 0.33333333, 0.34375   , 0.35416667,\n",
       "        0.36458333, 0.375     , 0.38541667, 0.39583333, 0.40625   ,\n",
       "        0.41666667, 0.42708333, 0.4375    , 0.44791667, 0.45833333,\n",
       "        0.46875   , 0.47916667, 0.48958333, 0.5       , 0.51041667,\n",
       "        0.52083333, 0.53125   , 0.54166667, 0.55208333, 0.5625    ,\n",
       "        0.57291667, 0.58333333, 0.59375   , 0.60416667, 0.61458333,\n",
       "        0.625     , 0.63541667, 0.64583333, 0.65625   , 0.66666667,\n",
       "        0.67708333, 0.6875    , 0.69791667, 0.70833333, 0.71875   ,\n",
       "        0.72916667, 0.73958333, 0.75      , 0.76041667, 0.77083333,\n",
       "        0.78125   , 0.79166667, 0.80208333, 0.8125    , 0.82291667,\n",
       "        0.83333333, 0.84375   , 0.85416667, 0.86458333, 0.875     ,\n",
       "        0.88541667, 0.89583333, 0.90625   , 0.91666667, 0.92708333,\n",
       "        0.9375    , 0.94791667, 0.95833333, 0.96875   , 0.97916667,\n",
       "        0.98958333]))"
      ]
     },
     "execution_count": 3,
     "metadata": {},
     "output_type": "execute_result"
    }
   ],
   "source": [
    "# flattened coordinate array and unique x coorindates\n",
    "\n",
    "coords = train_dataset.x_data\n",
    "coords.shape, np.unique(coords[..., 0])"
   ]
  },
  {
   "cell_type": "code",
   "execution_count": 4,
   "metadata": {},
   "outputs": [
    {
     "name": "stdout",
     "output_type": "stream",
     "text": [
      "<class 'numpy.ndarray'> complex128\n"
     ]
    },
    {
     "data": {
      "text/plain": [
       "(-0.5, 95.5, 95.5, -0.5)"
      ]
     },
     "execution_count": 4,
     "metadata": {},
     "output_type": "execute_result"
    },
    {
     "data": {
      "image/png": "[encoded data removed]",
      "text/plain": [
       "<Figure size 640x480 with 1 Axes>"
      ]
     },
     "metadata": {},
     "output_type": "display_data"
    }
   ],
   "source": [
    "image = train_dataset.image\n",
    "print(type(image), image.dtype)\n",
    "\n",
    "plt.imshow(np.abs(image[..., res//2]), cmap='gray')\n",
    "plt.title(f'{image.shape}')\n",
    "plt.axis('off')"
   ]
  },
  {
   "cell_type": "code",
   "execution_count": 5,
   "metadata": {},
   "outputs": [],
   "source": [
    "datamodule = inrl.GenericDataModule(batch_size=2048,\n",
    "                                   num_workers=8, \n",
    "                                   use_worker_init_fn=True,\n",
    "                                   train=train_dataset, \n",
    "                                   val=val_dataset, # not necessary\n",
    "                                   )"
   ]
  },
  {
   "cell_type": "markdown",
   "metadata": {},
   "source": [
    "## Loss"
   ]
  },
  {
   "cell_type": "code",
   "execution_count": 6,
   "metadata": {},
   "outputs": [],
   "source": [
    "# define loss subclass\n",
    "\n",
    "from typing import Mapping\n",
    "\n",
    "\n",
    "class ComplexINRLoss(inrl.ABCLoss):\n",
    "    def set_params(self, *args, **kwargs):\n",
    "        '''\n",
    "        Set additional optimization parameters for loss, i.e., clean reconstruction\n",
    "        '''\n",
    "        return\n",
    "    \n",
    "    def reconstruct_params(self, input_shape, outputs, **other) -> Mapping[str, np.ndarray]:\n",
    "        '''\n",
    "        If added additional parameters, reconstruct them here \n",
    "        '''\n",
    "        return {**other}\n",
    "    \n",
    "    def prepare_input(self,  x: torch.Tensor, y: torch.Tensor, **other) -> Mapping[str, torch.Tensor]:\n",
    "        xi = x.clone()\n",
    "        yi = inrl.make_complex(y)\n",
    "        return {'x': xi, 'y': yi, **other}\n",
    "    \n",
    "    def prepare_output(self,  y_hat: torch.Tensor, y: torch.Tensor, **other) -> Mapping[str, torch.Tensor]:\n",
    "        return {'pred': torch.squeeze(y_hat), \n",
    "                'target': torch.squeeze(y), \n",
    "                **other}"
   ]
  },
  {
   "cell_type": "markdown",
   "metadata": {},
   "source": [
    "### Constraints"
   ]
  },
  {
   "cell_type": "code",
   "execution_count": 7,
   "metadata": {},
   "outputs": [],
   "source": [
    "constr = inrl.ComplexImaginaryConstraint()"
   ]
  },
  {
   "cell_type": "markdown",
   "metadata": {},
   "source": [
    "### Regularization"
   ]
  },
  {
   "cell_type": "code",
   "execution_count": 8,
   "metadata": {},
   "outputs": [],
   "source": [
    "reg = inrl.L1Regularizer(dim=None, \n",
    "                        weight=1e-4, \n",
    "                        constraints=[constr]\n",
    "                        )"
   ]
  },
  {
   "cell_type": "code",
   "execution_count": 9,
   "metadata": {},
   "outputs": [],
   "source": [
    "# compose loss function\n",
    "\n",
    "loss_fn = ComplexINRLoss('complex_mse', # loss type can be anything\n",
    "                    regularizers=[reg], \n",
    "                    fncs=[inrl.MSELoss(dim=[0])], # inrl.MSELoss() is the same as nn.MSELoss() but doesn't wimp out for complex data\n",
    "                    )"
   ]
  },
  {
   "cell_type": "markdown",
   "metadata": {},
   "source": [
    "## Model"
   ]
  },
  {
   "cell_type": "code",
   "execution_count": 10,
   "metadata": {},
   "outputs": [],
   "source": [
    "posenc = inrl.GaussianPosEnc(d_input=3, # dimensionality of input ie (x,y,z)\n",
    "                            embed_sz=256, # number of features to lift to\n",
    "                            scale=2., # scaling factor of the gaussian\n",
    "                            use_complex=True, # use complex data\n",
    "                            )"
   ]
  },
  {
   "cell_type": "code",
   "execution_count": 11,
   "metadata": {},
   "outputs": [],
   "source": [
    "init_fn = inrl.XavierNormal(gain=1.)\n",
    "\n",
    "MLP = inrl.NeuralImplicitMLP(\n",
    "    lr=1e-3, # learning rate\n",
    "    posenc=posenc, # positional encoding\n",
    "    n_features=256, # input dimension\n",
    "    n_layers=8, # network depth\n",
    "    n_output=1,  # complex output\n",
    "    \n",
    "    ###\n",
    "    linear_fn=inrl.ComplexLinear, # linear layer\n",
    "    loss_fn=loss_fn, # loss function\n",
    "    act_fn=inrl.Cardioid(), # activation function\n",
    "    norm_fn=nn.Identity(), # normalization function\n",
    "    output_fn=nn.Identity(), # no output activation -> unbounded output\n",
    "    init_fn=init_fn, # initialization function\n",
    "    ###\n",
    "    \n",
    "    optimizer=torch.optim.Adam,\n",
    "    metrics=[inrl.NRMSELoss(dim=[0])] # metrics to track besides loss, min, max\n",
    "    )"
   ]
  },
  {
   "cell_type": "markdown",
   "metadata": {},
   "source": [
    "## Logging"
   ]
  },
  {
   "cell_type": "code",
   "execution_count": 12,
   "metadata": {},
   "outputs": [],
   "source": [
    "phase_transf = inrl.PhaseTransform(cmap='gray', vmin=-3.14, vmax=3.14)\n",
    "mag_transf = inrl.MagnitudeTransform(cmap='gray')\n",
    "view_transfs = [phase_transf, mag_transf]\n",
    "stopper = EarlyStopping(monitor=\"val_NRMSELoss\", mode=\"min\", patience=10, min_delta=0.)\n",
    "\n",
    "img_logger = inrl.NeuralImplicitImageLogger(view_transforms=view_transfs, # callables to transform output for viewing, i.e., phase and magnitude for complex-valued images\n",
    "                                        save_freq=10, # how often to save images\n",
    "                                        best_only=True, # only save best images\n",
    "                                       )"
   ]
  },
  {
   "cell_type": "markdown",
   "metadata": {},
   "source": [
    "## Training"
   ]
  },
  {
   "cell_type": "code",
   "execution_count": 13,
   "metadata": {},
   "outputs": [],
   "source": [
    "save_dir = 'logs/shepp'\n",
    "name = 'complex_shepp_demo'\n",
    "version = 1\n",
    "DIR = path.join(save_dir, name, f'version_{version}')\n",
    "\n",
    "logger = CSVLogger(save_dir=save_dir, \n",
    "                   name=name, \n",
    "                   version=version) # not needed, but useful for logging\n",
    "bar = TQDMProgressBar(refresh_rate=1000)"
   ]
  },
  {
   "cell_type": "code",
   "execution_count": 14,
   "metadata": {},
   "outputs": [
    {
     "name": "stderr",
     "output_type": "stream",
     "text": [
      "GPU available: True (cuda), used: True\n",
      "TPU available: False, using: 0 TPU cores\n",
      "IPU available: False, using: 0 IPUs\n",
      "HPU available: False, using: 0 HPUs\n"
     ]
    }
   ],
   "source": [
    "trainer = pl.Trainer(max_epochs=10, \n",
    "                     log_every_n_steps=1, \n",
    "                     benchmark=True,\n",
    "                     accumulate_grad_batches=2,\n",
    "                     logger=logger,\n",
    "                     callbacks=[bar], \n",
    "                    )"
   ]
  },
  {
   "cell_type": "code",
   "execution_count": 15,
   "metadata": {},
   "outputs": [
    {
     "name": "stderr",
     "output_type": "stream",
     "text": [
      "/home/zstoebs/anaconda3/envs/nerf/lib/python3.10/site-packages/lightning/pytorch/callbacks/model_checkpoint.py:612: UserWarning: Checkpoint directory logs/shepp/complex_shepp_demo/version_1/checkpoints exists and is not empty.\n",
      "  rank_zero_warn(f\"Checkpoint directory {dirpath} exists and is not empty.\")\n",
      "LOCAL_RANK: 0 - CUDA_VISIBLE_DEVICES: [0]\n",
      "\n",
      "  | Name       | Type           | Params\n",
      "----------------------------------------------\n",
      "0 | posenc     | GaussianPosEnc | 1.0 K \n",
      "1 | loss_fn    | ComplexINRLoss | 0     \n",
      "2 | act_fn     | Cardioid       | 0     \n",
      "3 | norm_fn    | Identity       | 0     \n",
      "4 | output_fn  | Identity       | 0     \n",
      "5 | init_fn    | XavierNormal   | 0     \n",
      "6 | base_model | Sequential     | 460 K \n",
      "----------------------------------------------\n",
      "460 K     Trainable params\n",
      "1.0 K     Non-trainable params\n",
      "461 K     Total params\n",
      "1.847     Total estimated model params size (MB)\n",
      "/home/zstoebs/anaconda3/envs/nerf/lib/python3.10/site-packages/lightning/fabric/loggers/csv_logs.py:188: UserWarning: Experiment logs directory logs/shepp/complex_shepp_demo/version_1 exists and is not empty. Previous log files in this directory will be deleted when the new ones are saved!\n",
      "  rank_zero_warn(\n"
     ]
    },
    {
     "data": {
      "application/vnd.jupyter.widget-view+json": {
       "model_id": "c6873d5c715d49e283154d3c44a894b3",
       "version_major": 2,
       "version_minor": 0
      },
      "text/plain": [
       "Sanity Checking: 0it [00:00, ?it/s]"
      ]
     },
     "metadata": {},
     "output_type": "display_data"
    },
    {
     "data": {
      "application/vnd.jupyter.widget-view+json": {
       "model_id": "9ddb7a8f63d14e358d805ea45e2568c0",
       "version_major": 2,
       "version_minor": 0
      },
      "text/plain": [
       "Training: 0it [00:00, ?it/s]"
      ]
     },
     "metadata": {},
     "output_type": "display_data"
    },
    {
     "data": {
      "application/vnd.jupyter.widget-view+json": {
       "model_id": "5647ed9de2e34ce1b1b1b5f7943481a2",
       "version_major": 2,
       "version_minor": 0
      },
      "text/plain": [
       "Validation: 0it [00:00, ?it/s]"
      ]
     },
     "metadata": {},
     "output_type": "display_data"
    },
    {
     "data": {
      "application/vnd.jupyter.widget-view+json": {
       "model_id": "cf964f415f8e4b23a94efd695ad5469a",
       "version_major": 2,
       "version_minor": 0
      },
      "text/plain": [
       "Validation: 0it [00:00, ?it/s]"
      ]
     },
     "metadata": {},
     "output_type": "display_data"
    },
    {
     "data": {
      "application/vnd.jupyter.widget-view+json": {
       "model_id": "f2afc7960ecd475e833ef6a9d4c6e3fc",
       "version_major": 2,
       "version_minor": 0
      },
      "text/plain": [
       "Validation: 0it [00:00, ?it/s]"
      ]
     },
     "metadata": {},
     "output_type": "display_data"
    },
    {
     "data": {
      "application/vnd.jupyter.widget-view+json": {
       "model_id": "91f3887ce8124d7c99c2ab8dd40c8b33",
       "version_major": 2,
       "version_minor": 0
      },
      "text/plain": [
       "Validation: 0it [00:00, ?it/s]"
      ]
     },
     "metadata": {},
     "output_type": "display_data"
    },
    {
     "data": {
      "application/vnd.jupyter.widget-view+json": {
       "model_id": "c73582ceb5f848569e6ab04f3ed7e7f7",
       "version_major": 2,
       "version_minor": 0
      },
      "text/plain": [
       "Validation: 0it [00:00, ?it/s]"
      ]
     },
     "metadata": {},
     "output_type": "display_data"
    },
    {
     "data": {
      "application/vnd.jupyter.widget-view+json": {
       "model_id": "5d0c51030b9c42b28f396bba5671917f",
       "version_major": 2,
       "version_minor": 0
      },
      "text/plain": [
       "Validation: 0it [00:00, ?it/s]"
      ]
     },
     "metadata": {},
     "output_type": "display_data"
    },
    {
     "data": {
      "application/vnd.jupyter.widget-view+json": {
       "model_id": "1e5e06ee6df94e999e2556f9e6924851",
       "version_major": 2,
       "version_minor": 0
      },
      "text/plain": [
       "Validation: 0it [00:00, ?it/s]"
      ]
     },
     "metadata": {},
     "output_type": "display_data"
    },
    {
     "data": {
      "application/vnd.jupyter.widget-view+json": {
       "model_id": "411d4083ca4746e9ab48609c69902811",
       "version_major": 2,
       "version_minor": 0
      },
      "text/plain": [
       "Validation: 0it [00:00, ?it/s]"
      ]
     },
     "metadata": {},
     "output_type": "display_data"
    },
    {
     "data": {
      "application/vnd.jupyter.widget-view+json": {
       "model_id": "0e91b7dce79848abb213f1fbaa28a30e",
       "version_major": 2,
       "version_minor": 0
      },
      "text/plain": [
       "Validation: 0it [00:00, ?it/s]"
      ]
     },
     "metadata": {},
     "output_type": "display_data"
    },
    {
     "data": {
      "application/vnd.jupyter.widget-view+json": {
       "model_id": "e5c0d9a3713f4e7b9f3f9fdcadd20864",
       "version_major": 2,
       "version_minor": 0
      },
      "text/plain": [
       "Validation: 0it [00:00, ?it/s]"
      ]
     },
     "metadata": {},
     "output_type": "display_data"
    },
    {
     "name": "stderr",
     "output_type": "stream",
     "text": [
      "`Trainer.fit` stopped: `max_epochs=10` reached.\n"
     ]
    }
   ],
   "source": [
    "trainer.fit(model=MLP, datamodule=datamodule)"
   ]
  },
  {
   "cell_type": "code",
   "execution_count": 16,
   "metadata": {},
   "outputs": [],
   "source": [
    "metrics_df = pd.read_csv(path.join(DIR, 'metrics.csv'))\n",
    "\n",
    "train_losses = metrics_df['train_loss'].dropna(ignore_index=True)\n",
    "train_nrmses = metrics_df['train_NRMSELoss'].dropna(ignore_index=True)\n",
    "\n",
    "val_losses = metrics_df['val_loss'].dropna(ignore_index=True)\n",
    "val_nrmses = metrics_df['val_NRMSELoss'].dropna(ignore_index=True)"
   ]
  },
  {
   "cell_type": "code",
   "execution_count": 17,
   "metadata": {},
   "outputs": [
    {
     "data": {
      "text/plain": [
       "<matplotlib.legend.Legend at 0x755997d99ea0>"
      ]
     },
     "execution_count": 17,
     "metadata": {},
     "output_type": "execute_result"
    },
    {
     "data": {
      "image/png": "[encoded data removed]",
      "text/plain": [
       "<Figure size 640x480 with 1 Axes>"
      ]
     },
     "metadata": {},
     "output_type": "display_data"
    }
   ],
   "source": [
    "# plot log loss curves\n",
    "\n",
    "plt.plot(np.log(np.array(train_losses)), label='train')\n",
    "plt.plot(np.log(np.array(val_losses)), label='val')\n",
    "plt.title('Training and validation log loss')\n",
    "plt.xlabel('epoch')\n",
    "plt.ylabel('log loss')\n",
    "plt.legend()"
   ]
  },
  {
   "cell_type": "code",
   "execution_count": 18,
   "metadata": {},
   "outputs": [
    {
     "data": {
      "text/plain": [
       "<matplotlib.legend.Legend at 0x75598bac3b20>"
      ]
     },
     "execution_count": 18,
     "metadata": {},
     "output_type": "execute_result"
    },
    {
     "data": {
      "image/png": "[encoded data removed]",
      "text/plain": [
       "<Figure size 640x480 with 1 Axes>"
      ]
     },
     "metadata": {},
     "output_type": "display_data"
    }
   ],
   "source": [
    "# plot nrmse curves\n",
    "\n",
    "plt.plot(np.array(train_nrmses), label='train')\n",
    "plt.plot(np.array(val_nrmses), label='val')\n",
    "plt.title('Training and validation NRMSE')\n",
    "plt.xlabel('epoch')\n",
    "plt.ylabel('NRMSE')\n",
    "plt.legend()"
   ]
  },
  {
   "cell_type": "markdown",
   "metadata": {},
   "source": [
    "Since the training is batched, some patches of target image are all zeros so NRMSE is undefined. In this case, MSE is always defined and the loss curve should show that the model is converging. "
   ]
  },
  {
   "cell_type": "code",
   "execution_count": 19,
   "metadata": {},
   "outputs": [
    {
     "name": "stderr",
     "output_type": "stream",
     "text": [
      "LOCAL_RANK: 0 - CUDA_VISIBLE_DEVICES: [0]\n"
     ]
    },
    {
     "data": {
      "application/vnd.jupyter.widget-view+json": {
       "model_id": "661b12dc06094bbe9d30b2ca8e562442",
       "version_major": 2,
       "version_minor": 0
      },
      "text/plain": [
       "Predicting: 0it [00:00, ?it/s]"
      ]
     },
     "metadata": {},
     "output_type": "display_data"
    }
   ],
   "source": [
    "outputs = trainer.predict(MLP, datamodule)"
   ]
  },
  {
   "cell_type": "code",
   "execution_count": 20,
   "metadata": {},
   "outputs": [
    {
     "data": {
      "text/plain": [
       "{'loss': array(0.00071654),\n",
       " 'mean': array(0.),\n",
       " 'std': array(0.),\n",
       " 'min': array(0.),\n",
       " 'max': array(0.),\n",
       " 'NRMSELoss': array(inf)}"
      ]
     },
     "execution_count": 20,
     "metadata": {},
     "output_type": "execute_result"
    }
   ],
   "source": [
    "scores = {key.split('_')[-1]: value.detach().cpu().numpy() for key, value in trainer.model.scores.items()}\n",
    "scores"
   ]
  },
  {
   "cell_type": "code",
   "execution_count": 21,
   "metadata": {},
   "outputs": [
    {
     "data": {
      "text/plain": [
       "dict_keys(['target', 'pred', 'target-pred'])"
      ]
     },
     "execution_count": 21,
     "metadata": {},
     "output_type": "execute_result"
    }
   ],
   "source": [
    "trained_sigs = trainer.model.reconstruct(train_dataset.input_shape)\n",
    "trained_sigs.keys()"
   ]
  },
  {
   "cell_type": "code",
   "execution_count": 22,
   "metadata": {},
   "outputs": [
    {
     "data": {
      "text/plain": [
       "((96, 96, 96), (96, 96, 96))"
      ]
     },
     "execution_count": 22,
     "metadata": {},
     "output_type": "execute_result"
    }
   ],
   "source": [
    "pred = trained_sigs['pred']\n",
    "target = trained_sigs['target']\n",
    "pred.shape, target.shape"
   ]
  },
  {
   "cell_type": "code",
   "execution_count": 23,
   "metadata": {},
   "outputs": [
    {
     "data": {
      "text/plain": [
       "(-0.5, 95.5, 95.5, -0.5)"
      ]
     },
     "execution_count": 23,
     "metadata": {},
     "output_type": "execute_result"
    },
    {
     "data": {
      "image/png": "[encoded data removed]",
      "text/plain": [
       "<Figure size 640x480 with 2 Axes>"
      ]
     },
     "metadata": {},
     "output_type": "display_data"
    }
   ],
   "source": [
    "plt.subplot(121)\n",
    "plt.imshow(np.abs(pred[..., res//2]), cmap='gray')\n",
    "plt.title(f'Predicted (nrmse={nrmse(pred, target):.3f})')\n",
    "plt.axis('off')\n",
    "\n",
    "plt.subplot(122)\n",
    "plt.imshow(np.abs(target[..., res//2]), cmap='gray')\n",
    "plt.title('Target')\n",
    "plt.axis('off')"
   ]
  }
 ],
 "metadata": {
  "kernelspec": {
   "display_name": "nerf",
   "language": "python",
   "name": "python3"
  },
  "language_info": {
   "codemirror_mode": {
    "name": "ipython",
    "version": 3
   },
   "file_extension": ".py",
   "mimetype": "text/x-python",
   "name": "python",
   "nbconvert_exporter": "python",
   "pygments_lexer": "ipython3",
   "version": "3.10.13"
  }
 },
 "nbformat": 4,
 "nbformat_minor": 2
}
